{
 "cells": [
  {
   "cell_type": "markdown",
   "metadata": {},
   "source": [
    "# -----------------------------\n",
    "\n",
    "# MP1 - Boyer Romain\n",
    "\n",
    "# -----------------------------\n",
    "## I - Fonctions"
   ]
  },
  {
   "cell_type": "code",
   "execution_count": 1,
   "metadata": {
    "collapsed": true
   },
   "outputs": [],
   "source": [
    "import matplotlib.pyplot as plt\n",
    "%matplotlib inline\n",
    "import numpy as np\n",
    "import pandas as pd\n",
    "\n",
    "def generate_a_drawing(figsize, U, V, noise=0.0):\n",
    "    fig = plt.figure(figsize=(figsize,figsize))\n",
    "    ax = plt.subplot(111)\n",
    "    plt.axis('Off')\n",
    "    ax.set_xlim(0,figsize)\n",
    "    ax.set_ylim(0,figsize)\n",
    "    ax.fill(U, V, \"k\")\n",
    "    fig.canvas.draw()\n",
    "    imdata = np.frombuffer(fig.canvas.tostring_rgb(), dtype=np.uint8)[::3].astype(np.float32)\n",
    "    imdata = imdata + noise * np.random.random(imdata.size)\n",
    "    plt.close(fig)\n",
    "    return imdata\n",
    "\n",
    "def generate_a_rectangle(noise=0.0, free_location=False):\n",
    "    figsize = 1.0    \n",
    "    U = np.zeros(4)\n",
    "    V = np.zeros(4)\n",
    "    if free_location:\n",
    "        corners = np.random.random(4)\n",
    "        top = max(corners[0], corners[1])\n",
    "        bottom = min(corners[0], corners[1])\n",
    "        left = min(corners[2], corners[3])\n",
    "        right = max(corners[2], corners[3])\n",
    "    else:\n",
    "        side = (0.3 + 0.7 * np.random.random()) * figsize\n",
    "        top = figsize/2 + side/2\n",
    "        bottom = figsize/2 - side/2\n",
    "        left = bottom\n",
    "        right = top\n",
    "    U[0] = U[1] = top\n",
    "    U[2] = U[3] = bottom\n",
    "    V[0] = V[3] = left\n",
    "    V[1] = V[2] = right\n",
    "    return generate_a_drawing(figsize, U, V, noise)\n",
    "\n",
    "def generate_a_disk(noise=0.0, free_location=False):\n",
    "    figsize = 1.0\n",
    "    if free_location:\n",
    "        center = np.random.random(2)\n",
    "    else:\n",
    "        center = (figsize/2, figsize/2)\n",
    "    radius = (0.3 + 0.7 * np.random.random()) * figsize/2\n",
    "    N = 50\n",
    "    U = np.zeros(N)\n",
    "    V = np.zeros(N)\n",
    "    i = 0\n",
    "    for t in np.linspace(0, 2*np.pi, N):\n",
    "        U[i] = center[0] + np.cos(t) * radius\n",
    "        V[i] = center[1] + np.sin(t) * radius\n",
    "        i = i + 1\n",
    "    return generate_a_drawing(figsize, U, V, noise)\n",
    "\n",
    "def generate_a_triangle(noise=0.0, free_location=False):\n",
    "    figsize = 1.0\n",
    "    if free_location:\n",
    "        U = np.random.random(3)\n",
    "        V = np.random.random(3)\n",
    "    else:\n",
    "        size = (0.3 + 0.7 * np.random.random())*figsize/2\n",
    "        middle = figsize/2\n",
    "        U = (middle, middle+size, middle-size)\n",
    "        V = (middle+size, middle-size, middle-size)\n",
    "    imdata = generate_a_drawing(figsize, U, V, noise)\n",
    "    return [imdata, [U[0], V[0], U[1], V[1], U[2], V[2]]]\n",
    "\n",
    "def generate_dataset_classification(nb_samples, noise=0.0, free_location=False):\n",
    "    # Getting im_size:\n",
    "    im_size = generate_a_rectangle().shape[0]\n",
    "    X = np.zeros([nb_samples,im_size])\n",
    "    Y = np.zeros(nb_samples)\n",
    "    print('Creating data:')\n",
    "    for i in range(nb_samples):\n",
    "        if i % 50 == 0:\n",
    "            print(i)\n",
    "        category = np.random.randint(3)\n",
    "        if category == 0:\n",
    "            X[i] = generate_a_rectangle(noise, free_location)\n",
    "        elif category == 1: \n",
    "            X[i] = generate_a_disk(noise, free_location)\n",
    "        else:\n",
    "            [X[i], V] = generate_a_triangle(noise, free_location)\n",
    "        Y[i] = category\n",
    "    X = (X + noise) / (255 + 2 * noise)\n",
    "    return [X, Y]\n",
    "\n",
    "def generate_test_set_classification():\n",
    "    np.random.seed(42)\n",
    "    [X_test, Y_test] = generate_dataset_classification(300, 20, True)\n",
    "    Y_test = np_utils.to_categorical(Y_test, 3) \n",
    "    return [X_test, Y_test]\n",
    "\n",
    "def generate_dataset_regression(nb_samples, noise=0.0):\n",
    "    # Getting im_size:\n",
    "    im_size = generate_a_triangle()[0].shape[0]\n",
    "    X = np.zeros([nb_samples,im_size])\n",
    "    Y = np.zeros([nb_samples, 6])\n",
    "    print('Creating data:')\n",
    "    for i in range(nb_samples):\n",
    "        if i % 50 == 0:\n",
    "            print(i)\n",
    "        [X[i], Y[i]] = generate_a_triangle(noise, True)\n",
    "    X = (X + noise) / (255 + 2 * noise)\n",
    "    return [X, Y]\n",
    "\n",
    "import matplotlib.patches as patches\n",
    "\n",
    "def visualize_prediction(x, y):\n",
    "    fig, ax = plt.subplots(figsize=(5, 5))\n",
    "    I = x.reshape((72,72))\n",
    "    ax.imshow(I, extent=[-0.15,1.15,-0.15,1.15],cmap='gray')\n",
    "    ax.set_xlim([0,1])\n",
    "    ax.set_ylim([0,1])\n",
    "\n",
    "    xy = y.reshape(3,2)\n",
    "    tri = patches.Polygon(xy, closed=True, fill = False, edgecolor = 'r', linewidth = 5, alpha = 0.5)\n",
    "    ax.add_patch(tri)\n",
    "\n",
    "    plt.show()\n",
    "\n",
    "def generate_test_set_regression():\n",
    "    np.random.seed(42)\n",
    "    [X_test, Y_test] = generate_dataset_regression(300, 20)\n",
    "    Y_test = np_utils.to_categorical(Y_test, 3) \n",
    "    return [X_test, Y_test]"
   ]
  },
  {
   "cell_type": "code",
   "execution_count": 2,
   "metadata": {
    "collapsed": false
   },
   "outputs": [],
   "source": [
    "'''\n",
    "Function to check the results of my models, and show a confusion matrix.\n",
    "This function works for exercices 2 and 4.\n",
    "The result is the higher value of the prediction.\n",
    "'''\n",
    "\n",
    "\n",
    "def verif_ex(range_ = 100, free_location = False, ex=2):\n",
    "\n",
    "    score = [0,0,0]\n",
    "    true_rec = [0,0,0]\n",
    "    true_disk = [0,0,0]\n",
    "    true_triangle = [0,0,0]\n",
    "\n",
    "    for i in range(range_):\n",
    "        X_test = generate_a_rectangle(free_location = free_location)\n",
    "        if ex==2:\n",
    "            X_test = X_test.reshape(1, X_test.shape[0])\n",
    "        elif ex==4:\n",
    "            X_test = X_test.reshape(-1,72,72,1)\n",
    "        X_1 = model.predict(X_test)\n",
    "\n",
    "        X = list(X_1[0])\n",
    "        X = X.index(max(X))\n",
    "\n",
    "        if X == 0:\n",
    "            score[0]+=1\n",
    "            true_rec[0] += 1\n",
    "        elif X == 1:\n",
    "            true_rec[1] += 1\n",
    "        else:\n",
    "            true_rec[2] += 1\n",
    "            \n",
    "\n",
    "    print('Rectangle check => score : '+str(score[0])+' / '+str(range_))\n",
    "\n",
    "    for i in range(range_):\n",
    "        X_test = generate_a_disk(free_location = free_location)\n",
    "        if ex==2:\n",
    "            X_test = X_test.reshape(1, X_test.shape[0])\n",
    "        elif ex==4:\n",
    "            X_test = X_test.reshape(-1,72,72,1)\n",
    "        X_1 = model.predict(X_test)\n",
    "\n",
    "        X = list(X_1[0])\n",
    "        X = X.index(max(X))\n",
    "\n",
    "        if X == 1:\n",
    "            score[1]+=1\n",
    "            true_disk[1] += 1\n",
    "        elif X == 0:\n",
    "            true_disk[0] += 1\n",
    "        else:\n",
    "            true_disk[2] += 1\n",
    "\n",
    "    print('Disk check => score : '+str(score[1])+' / '+str(range_))        \n",
    "\n",
    "    for i in range(range_):\n",
    "        X_test = generate_a_triangle(free_location = free_location)[0]\n",
    "        if ex==2:\n",
    "            X_test = X_test.reshape(1, X_test.shape[0])\n",
    "        elif ex==4:\n",
    "            X_test = X_test.reshape(-1,72,72,1)        \n",
    "        X_1 = model.predict(X_test)\n",
    "\n",
    "        X = list(X_1[0])\n",
    "        X = X.index(max(X))\n",
    "\n",
    "        if X == 2:\n",
    "            score[2]+=1\n",
    "            true_triangle[2] += 1\n",
    "        elif X == 0:\n",
    "            true_triangle[0] += 1\n",
    "        else:\n",
    "            true_triangle[1] += 1\n",
    "\n",
    "    print('Triangle check => score : '+str(score[2])+' / '+str(range_))\n",
    "    print('- '*20)\n",
    "\n",
    "    print('score total : '+str(sum(score))+' / '+str(range_*3) + ' => '+str(sum(score)/(3*range_)*100)+' %')\n",
    "    print('- '*20)\n",
    "    \n",
    "    print('prediction on rectangle : '+str(true_rec))\n",
    "    print('prediction on disk :      '+str(true_disk))\n",
    "    print('prediction on triangle :  '+str(true_triangle))"
   ]
  },
  {
   "cell_type": "code",
   "execution_count": 3,
   "metadata": {
    "collapsed": false
   },
   "outputs": [
    {
     "data": {
      "text/plain": [
       "<matplotlib.image.AxesImage at 0x17ece6c5f98>"
      ]
     },
     "execution_count": 3,
     "metadata": {},
     "output_type": "execute_result"
    },
    {
     "data": {
      "image/png": "[encoded data removed]",
      "text/plain": [
       "<matplotlib.figure.Figure at 0x17ebb974b00>"
      ]
     },
     "metadata": {},
     "output_type": "display_data"
    }
   ],
   "source": [
    "im = generate_a_rectangle(100, True)\n",
    "plt.imshow(im.reshape(72,72), cmap='gray')"
   ]
  },
  {
   "cell_type": "code",
   "execution_count": 4,
   "metadata": {
    "collapsed": false
   },
   "outputs": [
    {
     "data": {
      "text/plain": [
       "<matplotlib.image.AxesImage at 0x17ece7ee048>"
      ]
     },
     "execution_count": 4,
     "metadata": {},
     "output_type": "execute_result"
    },
    {
     "data": {
      "image/png": "[encoded data removed]",
      "text/plain": [
       "<matplotlib.figure.Figure at 0x17ece682940>"
      ]
     },
     "metadata": {},
     "output_type": "display_data"
    }
   ],
   "source": [
    "im = generate_a_disk(10, free_location=True)\n",
    "plt.imshow(im.reshape(72,72), cmap='gray')"
   ]
  },
  {
   "cell_type": "code",
   "execution_count": 5,
   "metadata": {
    "collapsed": false
   },
   "outputs": [
    {
     "data": {
      "text/plain": [
       "<matplotlib.image.AxesImage at 0x17ece61af28>"
      ]
     },
     "execution_count": 5,
     "metadata": {},
     "output_type": "execute_result"
    },
    {
     "data": {
      "image/png": "[encoded data removed]",
      "text/plain": [
       "<matplotlib.figure.Figure at 0x17ece7f43c8>"
      ]
     },
     "metadata": {},
     "output_type": "display_data"
    }
   ],
   "source": [
    "[im, v] = generate_a_triangle(20, False)\n",
    "plt.imshow(im.reshape(72,72), cmap='gray')"
   ]
  },
  {
   "cell_type": "markdown",
   "metadata": {},
   "source": [
    "## II - EXO\n",
    "### 1 - Librairies"
   ]
  },
  {
   "cell_type": "code",
   "execution_count": 6,
   "metadata": {
    "collapsed": false
   },
   "outputs": [
    {
     "name": "stderr",
     "output_type": "stream",
     "text": [
      "Using TensorFlow backend.\n"
     ]
    }
   ],
   "source": [
    "from keras.layers import Dense, Dropout, Flatten, Conv2D, MaxPool2D\n",
    "from keras.models import Sequential\n",
    "from keras.utils import np_utils \n",
    "from keras import optimizers\n",
    "from keras.wrappers.scikit_learn import KerasRegressor"
   ]
  },
  {
   "cell_type": "markdown",
   "metadata": {},
   "source": [
    "### 2 - Simple Classification\n",
    "#### 1 - SGD ~~ loss == 0.002"
   ]
  },
  {
   "cell_type": "code",
   "execution_count": null,
   "metadata": {
    "collapsed": false
   },
   "outputs": [],
   "source": [
    "[X_train, Y_train] = generate_dataset_classification(300, 20)"
   ]
  },
  {
   "cell_type": "code",
   "execution_count": null,
   "metadata": {
    "collapsed": true
   },
   "outputs": [],
   "source": [
    "'''\n",
    "Reshape the Y_train to fit the model\n",
    "'''\n",
    "Y_train = np_utils.to_categorical(Y_train, 3)\n",
    "input_shape = (X_train.shape[1],)"
   ]
  },
  {
   "cell_type": "code",
   "execution_count": null,
   "metadata": {
    "collapsed": false
   },
   "outputs": [],
   "source": [
    "'''\n",
    "Finding a good learning rate to the SGD optimizer => resultat lr=0.00085.\n",
    "First : get_new_model => create a new model for the next function.\n",
    "Second : plot_lr => plot the loss function of epochs of different model based on their SGD learning rate. \n",
    "After several tries, the best rate is lr = 0.0085. Its reach for more than 300 epochs\n",
    "'''\n",
    "\n",
    "def get_new_model():\n",
    "    model = Sequential()\n",
    "    model.add(Dense(300, activation='relu', input_shape=input_shape))\n",
    "    model.add(Dense(3))\n",
    "    return model\n",
    "\n",
    "def plot_lr(lr_to_test, epochs = 10, plot_start = 2):\n",
    "    plt.figure(figsize=(9,7))\n",
    "\n",
    "    for lr in lr_to_test:\n",
    "        print('Testing model for lr = '+str(lr))\n",
    "\n",
    "        model = get_new_model()\n",
    "        opt = optimizers.SGD(lr=lr)\n",
    "        model.compile(loss='mean_squared_error', optimizer=opt)\n",
    "\n",
    "        fitted_model = model.fit(X_train, Y_train, batch_size=32, epochs=epochs, verbose=0)\n",
    "\n",
    "        plt.plot(fitted_model.history['loss'][plot_start:], label=str(lr))\n",
    "\n",
    "    plt.xlabel('Epochs + '+str(plot_start))\n",
    "    plt.ylabel('Loss')\n",
    "    plt.legend(loc='upper right')\n",
    "    plt.show()\n",
    "    \n",
    "#lr_to_test = [.00001, .0001, .001, 0.01, 0.1]\n",
    "#lr_to_test = [0.0001, 0.001, 0.01]\n",
    "#lr_to_test = [0.00080, 0.0009, 0.001, 0.0012, 0.0014]\n",
    "#lr_to_test = [0.0014, 0.0016, 0.0018, 0.002]\n",
    "#lr_to_test = [0.001, 0.002, 0.003, 0.004, 0.005] \n",
    "#lr_to_test = [0.003, 0.0025, 0.0035] \n",
    "lr_to_test = [0.0003, 0.0025, 0.0085, 0.00085] # best score for 0.0085 and epochs = 300 (with a plot test of 500 epochs)\n",
    "\n",
    "plot_lr(lr_to_test, epochs=35, plot_start=5)"
   ]
  },
  {
   "cell_type": "code",
   "execution_count": null,
   "metadata": {
    "collapsed": false
   },
   "outputs": [],
   "source": [
    "'''\n",
    "Creation of my model with a Dense 600, a ReLU activation. And no activation on the last layer.\n",
    "'''\n",
    "\n",
    "model = Sequential()\n",
    "model.add(Dense(600, activation='relu', input_shape=input_shape))\n",
    "model.add(Dense(3))\n",
    "\n",
    "opt = optimizers.SGD(lr=0.0085)\n",
    "model.compile(loss='mean_squared_error', optimizer=opt)\n",
    "fitted_model = model.fit(X_train, Y_train, batch_size=32, epochs=315, verbose=0)"
   ]
  },
  {
   "cell_type": "code",
   "execution_count": null,
   "metadata": {
    "collapsed": true
   },
   "outputs": [],
   "source": [
    "plt.plot(fitted_model.history['loss'][15:])\n",
    "plt.title('Loss plot')\n",
    "plt.xlabel('Epoch')\n",
    "plt.ylabel('Loss')\n",
    "plt.show()"
   ]
  },
  {
   "cell_type": "code",
   "execution_count": null,
   "metadata": {
    "collapsed": false
   },
   "outputs": [],
   "source": [
    "'''\n",
    "Verification of my results on 600 images\n",
    "'''\n",
    "verif_ex(200, ex=2)"
   ]
  },
  {
   "cell_type": "markdown",
   "metadata": {},
   "source": [
    "#### 2 - ADAM ~~ loss == 0.001"
   ]
  },
  {
   "cell_type": "code",
   "execution_count": 8,
   "metadata": {
    "collapsed": false
   },
   "outputs": [
    {
     "name": "stdout",
     "output_type": "stream",
     "text": [
      "Creating data:\n",
      "0\n"
     ]
    }
   ],
   "source": [
    "[X_train, Y_train] = generate_dataset_classification(16, 20)"
   ]
  },
  {
   "cell_type": "code",
   "execution_count": 9,
   "metadata": {
    "collapsed": false
   },
   "outputs": [],
   "source": [
    "'''\n",
    "Reshape the Y_train to fit the model\n",
    "'''\n",
    "Y_train = np_utils.to_categorical(Y_train, 3)\n",
    "input_shape = (X_train.shape[1],)"
   ]
  },
  {
   "cell_type": "code",
   "execution_count": 10,
   "metadata": {
    "collapsed": false
   },
   "outputs": [],
   "source": [
    "'''\n",
    "Creation of my model with a Dense 600 layer, a ReLU activation. And no activation on the last layer\n",
    "'''\n",
    "\n",
    "model = Sequential()\n",
    "model.add(Dense(600, activation='relu', input_shape=input_shape))\n",
    "model.add(Dense(3))\n",
    "\n",
    "model.compile(loss='mean_squared_error', optimizer='adam')"
   ]
  },
  {
   "cell_type": "code",
   "execution_count": 11,
   "metadata": {
    "collapsed": false,
    "scrolled": true
   },
   "outputs": [],
   "source": [
    "fitted_model = model.fit(X_train, Y_train, batch_size=32, epochs=1, verbose=0)"
   ]
  },
  {
   "cell_type": "code",
   "execution_count": null,
   "metadata": {
    "collapsed": true
   },
   "outputs": [],
   "source": [
    "plt.plot(fitted_model.history['loss'][5:])\n",
    "plt.title('Loss plot')\n",
    "plt.xlabel('Epoch')\n",
    "plt.ylabel('Loss')\n",
    "plt.show()"
   ]
  },
  {
   "cell_type": "code",
   "execution_count": null,
   "metadata": {
    "collapsed": false
   },
   "outputs": [],
   "source": [
    "'''\n",
    "Verification of my results on 600 images\n",
    "'''\n",
    "verif_ex(200, ex=2)"
   ]
  },
  {
   "cell_type": "markdown",
   "metadata": {},
   "source": [
    "### 3 - Visualization of the Solution"
   ]
  },
  {
   "cell_type": "code",
   "execution_count": 12,
   "metadata": {
    "collapsed": false
   },
   "outputs": [],
   "source": [
    "weights = model.get_weights()"
   ]
  },
  {
   "cell_type": "code",
   "execution_count": 13,
   "metadata": {
    "collapsed": false
   },
   "outputs": [
    {
     "name": "stdout",
     "output_type": "stream",
     "text": [
      "0\n",
      "(5184, 600)\n",
      "- - - - - - - - - - - - - - - - - - - - - - - - - - - - - - - - - - - - - - - - \n",
      "1\n",
      "(600,)\n",
      "- - - - - - - - - - - - - - - - - - - - - - - - - - - - - - - - - - - - - - - - \n",
      "2\n",
      "(600, 3)\n",
      "- - - - - - - - - - - - - - - - - - - - - - - - - - - - - - - - - - - - - - - - \n",
      "3\n",
      "(3,)\n",
      "- - - - - - - - - - - - - - - - - - - - - - - - - - - - - - - - - - - - - - - - \n"
     ]
    }
   ],
   "source": [
    "for i in range(4):\n",
    "    print(i)\n",
    "    print(weights[i].shape)\n",
    "    print('- '*40)"
   ]
  },
  {
   "cell_type": "code",
   "execution_count": null,
   "metadata": {
    "collapsed": false
   },
   "outputs": [],
   "source": [
    "weights_matrix = np.dot(weights[0], weights[2])\n",
    "weights_matrix = weights_matrix.reshape(72,72,-1)\n",
    "plt.imshow(weights_matrix)\n",
    "plt.show()"
   ]
  },
  {
   "cell_type": "markdown",
   "metadata": {
    "collapsed": true
   },
   "source": [
    "### 4 - A More Difficult Classification Problem"
   ]
  },
  {
   "cell_type": "code",
   "execution_count": null,
   "metadata": {
    "collapsed": false
   },
   "outputs": [],
   "source": [
    "'''\n",
    "Generate a DataSet of 900 images\n",
    "'''\n",
    "[X_train, Y_train] = generate_dataset_classification(900, 20, True)"
   ]
  },
  {
   "cell_type": "code",
   "execution_count": null,
   "metadata": {
    "collapsed": false
   },
   "outputs": [],
   "source": [
    "'''\n",
    "Reshape the Y_train to fit the model\n",
    "Reshape the X_train to use Conv2D and MaxPool2D. For these 2 layers, a 2D image will fit better than an image in an array (1D)\n",
    "'''\n",
    "Y_train = np_utils.to_categorical(Y_train, 3)\n",
    "X_train = X_train.reshape(-1,72,72,1)"
   ]
  },
  {
   "cell_type": "code",
   "execution_count": null,
   "metadata": {
    "collapsed": false
   },
   "outputs": [],
   "source": [
    "'''\n",
    "Creation of the model\n",
    "'''\n",
    "model = Sequential()\n",
    "\n",
    "model.add(Conv2D(filters = 32, kernel_size = (5,5),padding = 'Same', activation ='relu', input_shape = (72,72,1)))\n",
    "model.add(Conv2D(filters = 32, kernel_size = (5,5),padding = 'Same', activation ='relu'))\n",
    "model.add(MaxPool2D(pool_size=(2,2)))\n",
    "model.add(Dropout(0.25)) # prevent overfitting\n",
    "\n",
    "model.add(Conv2D(filters = 64, kernel_size = (3,3),padding = 'Same', activation ='relu'))\n",
    "model.add(Conv2D(filters = 64, kernel_size = (3,3),padding = 'Same', activation ='relu'))\n",
    "model.add(MaxPool2D(pool_size=(2,2), strides=(2,2)))\n",
    "model.add(Dropout(0.25))\n",
    "\n",
    "model.add(Flatten())\n",
    "model.add(Dense(256, activation='relu'))\n",
    "\n",
    "model.add(Dense(3))\n",
    "\n",
    "model.compile(loss='mean_squared_error', optimizer='adam', metrics=['accuracy'])"
   ]
  },
  {
   "cell_type": "code",
   "execution_count": null,
   "metadata": {
    "collapsed": false
   },
   "outputs": [],
   "source": [
    "model.fit(X_train, Y_train, batch_size=30, epochs=50, verbose=1)"
   ]
  },
  {
   "cell_type": "code",
   "execution_count": null,
   "metadata": {
    "collapsed": true
   },
   "outputs": [],
   "source": [
    "plt.plot(fitted_model.history['loss'][3:])\n",
    "plt.title('Loss plot')\n",
    "plt.xlabel('Epoch')\n",
    "plt.ylabel('Loss')\n",
    "plt.show()"
   ]
  },
  {
   "cell_type": "code",
   "execution_count": null,
   "metadata": {
    "collapsed": false
   },
   "outputs": [],
   "source": [
    "'''\n",
    "Verification on 300 images\n",
    "'''\n",
    "verif_ex(range_=100, free_location=True, ex=4)"
   ]
  }
 ],
 "metadata": {
  "kernelspec": {
   "display_name": "Python 3",
   "language": "python",
   "name": "python3"
  },
  "language_info": {
   "codemirror_mode": {
    "name": "ipython",
    "version": 3
   },
   "file_extension": ".py",
   "mimetype": "text/x-python",
   "name": "python",
   "nbconvert_exporter": "python",
   "pygments_lexer": "ipython3",
   "version": "3.6.0"
  }
 },
 "nbformat": 4,
 "nbformat_minor": 2
}
